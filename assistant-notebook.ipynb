{
 "cells": [
  {
   "cell_type": "code",
   "execution_count": 348,
   "metadata": {},
   "outputs": [],
   "source": [
    "from openai import OpenAI\n",
    "import os\n",
    "import openmeteo_requests\n",
    "import requests_cache\n",
    "import pandas as pd\n",
    "from retry_requests import retry\n",
    "import json\n",
    "import time"
   ]
  },
  {
   "cell_type": "markdown",
   "metadata": {},
   "source": [
    "# Weather assistant using the openai assistants API"
   ]
  },
  {
   "cell_type": "code",
   "execution_count": null,
   "metadata": {},
   "outputs": [],
   "source": []
  },
  {
   "cell_type": "code",
   "execution_count": 349,
   "metadata": {},
   "outputs": [],
   "source": [
    "def get_weather_by_location(latitude, longitude, weather_variable=\"temperature_2m\"):\n",
    "    # Setup the Open-Meteo API client with cache and retry on error\n",
    "    cache_session = requests_cache.CachedSession('.cache', expire_after=3600)\n",
    "    retry_session = retry(cache_session, retries=5, backoff_factor=0.2)\n",
    "    openmeteo = openmeteo_requests.Client(session=retry_session)\n",
    "\n",
    "    # Prepare the API call\n",
    "    url = \"https://api.open-meteo.com/v1/forecast\"\n",
    "    params = {\n",
    "        \"latitude\": latitude,\n",
    "        \"longitude\": longitude,\n",
    "        \"hourly\": weather_variable\n",
    "    }\n",
    "\n",
    "    # Call the API\n",
    "    responses = openmeteo.weather_api(url, params=params)\n",
    "\n",
    "    # Process the first location response\n",
    "    response = responses[0]\n",
    "    print(f\"Coordinates {response.Latitude()}°E {response.Longitude()}°N\")\n",
    "    print(f\"Elevation {response.Elevation()} m asl\")\n",
    "    print(f\"Timezone {response.Timezone()} {response.TimezoneAbbreviation()}\")\n",
    "    print(f\"Timezone difference to GMT+0 {response.UtcOffsetSeconds()} s\")\n",
    "\n",
    "    # Process hourly data\n",
    "    hourly = response.Hourly()\n",
    "    hourly_data_values = hourly.Variables(0).ValuesAsNumpy()\n",
    "\n",
    "    hourly_data = {\n",
    "        \"date\": pd.date_range(\n",
    "            start=pd.to_datetime(hourly.Time(), unit=\"s\"),\n",
    "            end=pd.to_datetime(hourly.TimeEnd(), unit=\"s\"),\n",
    "            freq=pd.Timedelta(seconds=hourly.Interval()),\n",
    "            inclusive=\"left\"\n",
    "        )\n",
    "    }\n",
    "    hourly_data[weather_variable] = hourly_data_values\n",
    "\n",
    "    hourly_dataframe = pd.DataFrame(data=hourly_data)\n",
    "    return hourly_dataframe"
   ]
  },
  {
   "cell_type": "code",
   "execution_count": 350,
   "metadata": {},
   "outputs": [],
   "source": [
    "client = OpenAI(api_key=os.getenv(\"OPENAI_API_KEY\"))"
   ]
  },
  {
   "cell_type": "code",
   "execution_count": 351,
   "metadata": {},
   "outputs": [],
   "source": [
    "assistant = client.beta.assistants.create(\n",
    "    name=\"Weather Assistant\",\n",
    "    instructions=\"You are a friendly assistant that tells me the weather in a location\",\n",
    "    tools=[{\n",
    "            \"type\": \"function\",\n",
    "            \"function\": {\n",
    "                \"name\": \"get_weather_by_location\",\n",
    "                \"description\": \"Get the weather in location based on latitude and longitude\",\n",
    "                \"parameters\": {\n",
    "                    \"type\": \"object\",\n",
    "                    \"properties\": {\n",
    "                        \"latitude\": {\"type\": \"string\", \"description\": \"The latitude of the location (e.g., 37.7749)\"},\n",
    "                        \"longitude\": {\"type\": \"string\", \"description\": \"The longitude of the location (e.g., -122.4194)\"},\n",
    "                    },\n",
    "                },\n",
    "                \"required\": [\"latitude\", \"longitude\"]\n",
    "                \n",
    "            }\n",
    "        }\n",
    "    ],\n",
    "    model=\"gpt-4-1106-preview\"\n",
    ")"
   ]
  },
  {
   "cell_type": "code",
   "execution_count": 352,
   "metadata": {},
   "outputs": [],
   "source": [
    "thread = client.beta.threads.create()"
   ]
  },
  {
   "cell_type": "code",
   "execution_count": 353,
   "metadata": {},
   "outputs": [],
   "source": [
    "message = client.beta.threads.messages.create(\n",
    "    thread_id=thread.id,\n",
    "    role=\"user\",\n",
    "    content=\"What is the weather in San Francisco?\"\n",
    ")"
   ]
  },
  {
   "cell_type": "code",
   "execution_count": 354,
   "metadata": {},
   "outputs": [],
   "source": [
    "message = client.beta.threads.messages.retrieve(\n",
    "    thread_id=thread.id,\n",
    "    message_id=message.id,\n",
    ")"
   ]
  },
  {
   "cell_type": "code",
   "execution_count": 355,
   "metadata": {},
   "outputs": [],
   "source": [
    "run = client.beta.threads.runs.create(\n",
    "  thread_id=thread.id,\n",
    "  assistant_id=assistant.id\n",
    ")"
   ]
  },
  {
   "cell_type": "code",
   "execution_count": 356,
   "metadata": {},
   "outputs": [],
   "source": [
    "# print(run.model_dump_json(indent=2))"
   ]
  },
  {
   "cell_type": "code",
   "execution_count": 357,
   "metadata": {},
   "outputs": [],
   "source": [
    "# print(thread.model_dump_json(indent=2))"
   ]
  },
  {
   "cell_type": "code",
   "execution_count": 358,
   "metadata": {},
   "outputs": [],
   "source": [
    "# Wait 5 seconds for the run to complete\n",
    "time.sleep(10)"
   ]
  },
  {
   "cell_type": "code",
   "execution_count": 359,
   "metadata": {},
   "outputs": [],
   "source": [
    "retrieved_run = client.beta.threads.runs.retrieve(\n",
    "    thread_id=thread.id,\n",
    "    run_id=run.id,\n",
    ")"
   ]
  },
  {
   "cell_type": "code",
   "execution_count": 360,
   "metadata": {},
   "outputs": [
    {
     "name": "stdout",
     "output_type": "stream",
     "text": [
      "{\n",
      "  \"id\": \"run_LNlQQzzoVNCzAf7CnIG4T9WN\",\n",
      "  \"assistant_id\": \"asst_EwO5EIKf58leWJ2CAOipgfXM\",\n",
      "  \"cancelled_at\": null,\n",
      "  \"completed_at\": null,\n",
      "  \"created_at\": 1700589287,\n",
      "  \"expires_at\": 1700589887,\n",
      "  \"failed_at\": null,\n",
      "  \"file_ids\": [],\n",
      "  \"instructions\": \"You are a friendly assistant that tells me the weather in a location\",\n",
      "  \"last_error\": null,\n",
      "  \"metadata\": {},\n",
      "  \"model\": \"gpt-4-1106-preview\",\n",
      "  \"object\": \"thread.run\",\n",
      "  \"required_action\": {\n",
      "    \"submit_tool_outputs\": {\n",
      "      \"tool_calls\": [\n",
      "        {\n",
      "          \"id\": \"call_B92RWYRP3qs5BShcx74fSSOJ\",\n",
      "          \"function\": {\n",
      "            \"arguments\": \"{\\\"latitude\\\":\\\"37.7749\\\",\\\"longitude\\\":\\\"-122.4194\\\"}\",\n",
      "            \"name\": \"get_weather_by_location\"\n",
      "          },\n",
      "          \"type\": \"function\"\n",
      "        }\n",
      "      ]\n",
      "    },\n",
      "    \"type\": \"submit_tool_outputs\"\n",
      "  },\n",
      "  \"started_at\": 1700589287,\n",
      "  \"status\": \"requires_action\",\n",
      "  \"thread_id\": \"thread_HFiHanaX0EDD6yHR9FNVHmeX\",\n",
      "  \"tools\": [\n",
      "    {\n",
      "      \"function\": {\n",
      "        \"name\": \"get_weather_by_location\",\n",
      "        \"parameters\": {\n",
      "          \"type\": \"object\",\n",
      "          \"properties\": {\n",
      "            \"latitude\": {\n",
      "              \"type\": \"string\",\n",
      "              \"description\": \"The latitude of the location (e.g., 37.7749)\"\n",
      "            },\n",
      "            \"longitude\": {\n",
      "              \"type\": \"string\",\n",
      "              \"description\": \"The longitude of the location (e.g., -122.4194)\"\n",
      "            }\n",
      "          }\n",
      "        },\n",
      "        \"description\": \"Get the weather in location based on latitude and longitude\"\n",
      "      },\n",
      "      \"type\": \"function\"\n",
      "    }\n",
      "  ]\n",
      "}\n"
     ]
    }
   ],
   "source": [
    "print(retrieved_run.model_dump_json(indent=2))"
   ]
  },
  {
   "cell_type": "code",
   "execution_count": 361,
   "metadata": {},
   "outputs": [
    {
     "name": "stdout",
     "output_type": "stream",
     "text": [
      "Coordinates 37.763282775878906°E -122.41285705566406°N\n",
      "Elevation 18.0 m asl\n",
      "Timezone None None\n",
      "Timezone difference to GMT+0 0 s\n"
     ]
    }
   ],
   "source": [
    "# EXAMPLE OUTPUT:\n",
    "# \n",
    "#  \"required_action\": {\n",
    "#     \"submit_tool_outputs\": {\n",
    "#       \"tool_calls\": [\n",
    "#         {\n",
    "#           \"id\": \"call_OjFGC2nqulybgJSlyoRWDk3L\",\n",
    "#           \"function\": {\n",
    "#             \"arguments\": \"{\\\"latitude\\\":\\\"51.5074\\\",\\\"longitude\\\":\\\"-0.1278\\\"}\",\n",
    "#             \"name\": \"get_weather_by_location\"\n",
    "#           },\n",
    "#           \"type\": \"function\"\n",
    "#         }\n",
    "#       ]\n",
    "#     },\n",
    "#     \"type\": \"submit_tool_outputs\"\n",
    "#   },\n",
    "\n",
    "# Check if the run is completed then call the API with the tool outputs\n",
    "if retrieved_run and retrieved_run.required_action and retrieved_run.required_action.submit_tool_outputs:\n",
    "    tool_call = retrieved_run.required_action.submit_tool_outputs.tool_calls[0]\n",
    "    tool_call_id = tool_call.id\n",
    "    tool_call_function = tool_call.function\n",
    "    tool_call_arguments = tool_call_function.arguments\n",
    "    tool_call_arguments_json = json.loads(tool_call_arguments)\n",
    "    tool_call_function_name = tool_call_function.name\n",
    "\n",
    "    # Call the API\n",
    "    weather_data = get_weather_by_location(\n",
    "        latitude=tool_call_arguments_json[\"latitude\"],\n",
    "        longitude=tool_call_arguments_json[\"longitude\"],\n",
    "        weather_variable=\"temperature_2m\"\n",
    "    )"
   ]
  },
  {
   "cell_type": "code",
   "execution_count": 362,
   "metadata": {},
   "outputs": [],
   "source": [
    "# convert the dataframe to a JSON string\n",
    "weather_data_json = weather_data.to_json(orient=\"records\")"
   ]
  },
  {
   "cell_type": "code",
   "execution_count": 363,
   "metadata": {},
   "outputs": [],
   "source": [
    "# convert json to one string:\n",
    "weather_data_json = \"\".join(weather_data_json.splitlines())"
   ]
  },
  {
   "cell_type": "code",
   "execution_count": 364,
   "metadata": {},
   "outputs": [],
   "source": [
    "# Create a new message to the assistant with the weather data and ask for a concise summary\n",
    "run = client.beta.threads.runs.submit_tool_outputs(\n",
    "  thread_id=thread.id,\n",
    "  run_id=run.id,\n",
    "  tool_outputs=[\n",
    "    {\n",
    "      \"tool_call_id\": tool_call.id,\n",
    "      \"output\": weather_data_json + \"\\n\\nPlease summarize the weather in one or two sentences.\"\n",
    "    }\n",
    "  ]\n",
    ")\n"
   ]
  },
  {
   "cell_type": "code",
   "execution_count": 367,
   "metadata": {},
   "outputs": [
    {
     "name": "stdout",
     "output_type": "stream",
     "text": [
      "The weather in San Francisco shows a pattern of gradual warming throughout the day with temperatures ranging from the lower to upper teens in degrees Celsius. Nighttime temperatures dip slightly, while daytime temperatures peak, likely reaching the high teens or low twenties in degrees Celsius.\n",
      "What is the weather in San Francisco?\n"
     ]
    }
   ],
   "source": [
    "messages = client.beta.threads.messages.list(\n",
    "      thread_id=thread.id\n",
    ")\n",
    "\n",
    "for thread_message in messages.data:\n",
    "    # Iterate over the 'content' attribute of the ThreadMessage, which is a list\n",
    "    for content_item in thread_message.content:\n",
    "        # Assuming content_item is a MessageContentText object with a 'text' attribute\n",
    "        # and that 'text' has a 'value' attribute, print it\n",
    "        print(content_item.text.value)"
   ]
  },
  {
   "cell_type": "code",
   "execution_count": 366,
   "metadata": {},
   "outputs": [],
   "source": [
    "# print(thread_messages.model_dump_json(indent=2))"
   ]
  },
  {
   "cell_type": "code",
   "execution_count": null,
   "metadata": {},
   "outputs": [],
   "source": []
  }
 ],
 "metadata": {
  "kernelspec": {
   "display_name": "jupyter-openai",
   "language": "python",
   "name": "python3"
  },
  "language_info": {
   "codemirror_mode": {
    "name": "ipython",
    "version": 3
   },
   "file_extension": ".py",
   "mimetype": "text/x-python",
   "name": "python",
   "nbconvert_exporter": "python",
   "pygments_lexer": "ipython3",
   "version": "3.11.5"
  },
  "orig_nbformat": 4
 },
 "nbformat": 4,
 "nbformat_minor": 2
}
